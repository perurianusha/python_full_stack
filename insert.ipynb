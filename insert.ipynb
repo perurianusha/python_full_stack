{
  "nbformat": 4,
  "nbformat_minor": 0,
  "metadata": {
    "colab": {
      "name": "insert.ipynb",
      "provenance": [],
      "authorship_tag": "ABX9TyO/q1WilaE0FR2LAwFcwSbe",
      "include_colab_link": true
    },
    "kernelspec": {
      "name": "python3",
      "display_name": "Python 3"
    },
    "language_info": {
      "name": "python"
    }
  },
  "cells": [
    {
      "cell_type": "markdown",
      "metadata": {
        "id": "view-in-github",
        "colab_type": "text"
      },
      "source": [
        "<a href=\"https://colab.research.google.com/github/perurianusha/python_full_stack/blob/main/insert.ipynb\" target=\"_parent\"><img src=\"https://colab.research.google.com/assets/colab-badge.svg\" alt=\"Open In Colab\"/></a>"
      ]
    },
    {
      "cell_type": "code",
      "execution_count": 17,
      "metadata": {
        "id": "MtItQvAghomD"
      },
      "outputs": [],
      "source": [
        "s=[1,9]"
      ]
    },
    {
      "cell_type": "code",
      "source": [
        "s.insert(1,3)"
      ],
      "metadata": {
        "id": "zGsma5BMh4jl"
      },
      "execution_count": 18,
      "outputs": []
    },
    {
      "cell_type": "code",
      "source": [
        "print(s)"
      ],
      "metadata": {
        "colab": {
          "base_uri": "https://localhost:8080/"
        },
        "id": "Aofn6iG-h8Gu",
        "outputId": "dd373bf1-ec25-485e-d5c5-41ecb63ffbd9"
      },
      "execution_count": 19,
      "outputs": [
        {
          "output_type": "stream",
          "name": "stdout",
          "text": [
            "[1, 3, 9]\n"
          ]
        }
      ]
    },
    {
      "cell_type": "code",
      "source": [
        "s[2:2]=[5,7]"
      ],
      "metadata": {
        "id": "zdUmiVmGh-jD"
      },
      "execution_count": 20,
      "outputs": []
    },
    {
      "cell_type": "code",
      "source": [
        "print(s)"
      ],
      "metadata": {
        "colab": {
          "base_uri": "https://localhost:8080/"
        },
        "id": "egfKDN0hiLa_",
        "outputId": "3dc9ba16-f12b-4682-a06f-91a8e398e480"
      },
      "execution_count": 21,
      "outputs": [
        {
          "output_type": "stream",
          "name": "stdout",
          "text": [
            "[1, 3, 5, 7, 9]\n"
          ]
        }
      ]
    }
  ]
}